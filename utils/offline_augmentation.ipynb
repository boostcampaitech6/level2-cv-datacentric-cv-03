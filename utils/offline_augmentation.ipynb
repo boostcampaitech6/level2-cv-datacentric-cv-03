{
 "cells": [
  {
   "cell_type": "code",
   "execution_count": 23,
   "metadata": {},
   "outputs": [],
   "source": [
    "import os\n",
    "import numpy as np\n",
    "import matplotlib.pyplot as plt\n",
    "import cv2\n",
    "import albumentations as A"
   ]
  },
  {
   "cell_type": "code",
   "execution_count": 24,
   "metadata": {},
   "outputs": [],
   "source": [
    "def add_noise_wrapper(color=\"black\", amount=0.05):\n",
    "\n",
    "    def add_noise(image, rows, cols):\n",
    "        num_noise = np.ceil(amount * rows * cols)\n",
    "\n",
    "        # random pixel\n",
    "        coords = [\n",
    "            np.random.randint(0, i - 1, int(num_noise)) for i in [rows, cols]\n",
    "        ]\n",
    "\n",
    "        if color == \"black\":\n",
    "            image[coords[0], coords[1], :] = 0\n",
    "        elif color == \"white\":\n",
    "            image[coords[0], coords[1], :] = 255\n",
    "        elif color == \"blue\":\n",
    "            image[coords[0], coords[1], 0] = 125  # R\n",
    "            image[coords[0], coords[1], 1] = 200  # G\n",
    "            image[coords[0], coords[1], 2] = 230  # B\n",
    "\n",
    "        return image\n",
    "\n",
    "    return add_noise"
   ]
  },
  {
   "cell_type": "code",
   "execution_count": null,
   "metadata": {},
   "outputs": [],
   "source": [
    "# -- 수정할 부분 --\n",
    "\n",
    "img_dir = \"/data/ephemeral/home/data/medical/img/train\"  # train set 폴더 경로\n",
    "save_dir = \"/data/ephemeral/home/data/medical/aug\"  # 저장할 폴더\n",
    "\n",
    "img_idx = 0  # 증강 적용할 이미지 인덱스 (0 ~ 99)\n",
    "\n",
    "color = \"blue\"  # 노이즈 색 (black / white / blue)\n",
    "amount = 0.1  # 전체 픽셀에서 노이즈로 바꿀 비율 (0.0 ~ 1.0)\n",
    "factor = -0.3  # 이미지 밝기 조절 (음수: 어둡게, 양수: 밝게)\n",
    "\n",
    "# --------------\n",
    "\n",
    "tf_noise = A.Lambda(image=add_noise_wrapper(color=color, amount=amount), p=1)\n",
    "tf_bright = A.RandomBrightness(limit=(factor, factor), p=1)\n",
    "tf_compose = A.Compose([tf_noise, tf_bright])\n",
    "\n",
    "fnames = sorted(os.listdir(img_dir))\n",
    "fname = fnames[img_idx]\n",
    "img_path = os.path.join(img_dir, fname)\n",
    "\n",
    "img = cv2.cvtColor(cv2.imread(img_path), cv2.COLOR_BGR2RGB)\n",
    "\n",
    "fig = plt.figure(figsize=(14, 10))\n",
    "ax1 = fig.add_subplot(1, 2, 1, xticks=[], yticks=[])\n",
    "ax1.set_title(\"Original\")\n",
    "ax1.imshow(img)\n",
    "\n",
    "aug_img = tf_noise(image=img)[\"image\"]  # 노이즈만 추가\n",
    "# aug_img = tf_bright(image=img)['image'] # 밝기만 조절\n",
    "# aug_img = tf_compose(image=img)['image'] # 노이즈 추가 및 밝기 조절\n",
    "\n",
    "ax2 = fig.add_subplot(1, 2, 2, xticks=[], yticks=[])\n",
    "ax2.set_title(\"Transformed\")\n",
    "ax2.imshow(aug_img)\n",
    "\n",
    "# plot보단 실제 저장된 이미지를 확인해보는 것이 더 정확함\n",
    "if not os.path.isdir(save_dir):\n",
    "    os.mkdir(save_dir)\n",
    "\n",
    "cv2.imwrite(\n",
    "    os.path.join(save_dir, fname), cv2.cvtColor(aug_img, cv2.COLOR_BGR2RGB)\n",
    ")"
   ]
  }
 ],
 "metadata": {
  "kernelspec": {
   "display_name": "base",
   "language": "python",
   "name": "python3"
  },
  "language_info": {
   "codemirror_mode": {
    "name": "ipython",
    "version": 3
   },
   "file_extension": ".py",
   "mimetype": "text/x-python",
   "name": "python",
   "nbconvert_exporter": "python",
   "pygments_lexer": "ipython3",
   "version": "3.8.5"
  }
 },
 "nbformat": 4,
 "nbformat_minor": 2
}

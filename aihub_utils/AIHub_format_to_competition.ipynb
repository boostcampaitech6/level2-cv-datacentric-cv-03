{
  "cells": [
    {
      "cell_type": "code",
      "execution_count": null,
      "metadata": {
        "id": "CW_TuMmLpl49"
      },
      "outputs": [],
      "source": [
        "!unzip -qq \"/content/drive/MyDrive/Sample.zip\" -d '/content/sample/'"
      ]
    },
    {
      "cell_type": "code",
      "execution_count": null,
      "metadata": {
        "id": "NIZ5wbdU4zR5"
      },
      "outputs": [],
      "source": [
        "import json\n",
        "import os\n",
        "import shutil\n"
      ]
    },
    {
      "cell_type": "code",
      "source": [
        "def delete_json_files_not_in_png_folder(a_folder, b_folder):\n",
        "    for root, dirs, files in os.walk(a_folder):\n",
        "        for a_file_name in files:\n",
        "            if a_file_name.endswith('.json'):\n",
        "                a_file_path = os.path.join(root, a_file_name)\n",
        "                corresponding_png_file_path = os.path.join(b_folder, os.path.relpath(a_file_path, a_folder).replace('.json', '.png'))\n",
        "\n",
        "                # b폴더에 동일한 경로에 .png 파일이 없으면 .json 파일을 삭제합니다.\n",
        "                if not os.path.exists(corresponding_png_file_path):\n",
        "                    print(f\"Deleting {a_file_path}\")\n",
        "                    os.remove(a_file_path)\n",
        "\n",
        "# 사용 예시:\n",
        "a_folder_path = '/content/sample/Sample/02.라벨링데이터'\n",
        "b_folder_path = '/content/sample/Sample/01.원천데이터'\n",
        "\n",
        "delete_json_files_not_in_png_folder(a_folder_path, b_folder_path)\n",
        "\n"
      ],
      "metadata": {
        "id": "BK7TbdJnLi1G"
      },
      "execution_count": null,
      "outputs": []
    },
    {
      "cell_type": "code",
      "execution_count": null,
      "metadata": {
        "id": "7DfejKhP5EGD"
      },
      "outputs": [],
      "source": [
        "ufo = {\n",
        "    'images': {}\n",
        "}\n"
      ]
    },
    {
      "cell_type": "code",
      "execution_count": null,
      "metadata": {
        "id": "-k1ZXtCo50rL"
      },
      "outputs": [],
      "source": [
        "def find_json_files(directory):\n",
        "    json_files = []\n",
        "    for root, dirs, files in os.walk(directory):\n",
        "        for file in files:\n",
        "            if file.endswith(\".json\"):\n",
        "                json_files.append(os.path.join(root, file))\n",
        "    return json_files"
      ]
    },
    {
      "cell_type": "code",
      "execution_count": null,
      "metadata": {
        "id": "8MMhE8tK56Uq"
      },
      "outputs": [],
      "source": [
        "def coco_to_ufo(input_path,output_path):\n",
        "\n",
        "    for path in input_path:\n",
        "        with open(path, 'r') as f:\n",
        "            file=json.load(f)\n",
        "            image_name = file['Images']['identifier']+'.png'\n",
        "            if image_name not in ufo['images']:\n",
        "                ufo['images'][image_name] = {\n",
        "                    \"paragraphs\": {},\n",
        "                    \"words\": {},\n",
        "                    \"chars\": {},\n",
        "                    \"img_w\": file['Images']['width'],\n",
        "                    \"img_h\": file['Images'][\"height\"],\n",
        "                    \"tags\": [\"re-annotated\"],\n",
        "                    \"relations\": {},\n",
        "                    \"annotation_log\": {\n",
        "                        \"worker\": \"\",\n",
        "                        \"timestamp\": \"\",\n",
        "                        \"tool_version\": \"\",\n",
        "                        \"source\": None\n",
        "                        },\n",
        "                    \"license_tag\": {\n",
        "                        \"usability\": True,\n",
        "                        \"public\": True,\n",
        "                        \"commercial\": True,\n",
        "                        \"type\": None,\n",
        "                        \"holder\": \"AIHUB\"\n",
        "                        }\n",
        "                    }\n",
        "                id = 1\n",
        "                for bbox in file['bbox']:\n",
        "                    if len(bbox['x']) == 4:\n",
        "                        ufo['images'][image_name]['words'][str(id).zfill(4)] = {\n",
        "                            'transcription':\"\",\n",
        "                            'points':[[bbox['x'][0],bbox['y'][0]], [bbox['x'][2],bbox['y'][2]], [bbox['x'][3],bbox['y'][3]] ,[bbox['x'][1],bbox['y'][1]]],\n",
        "                            'orientation':'Horizontal',\n",
        "                            \"language\": None,\n",
        "                            \"tags\": ['Auto'],\n",
        "                            \"confidence\": None,\n",
        "                            \"illegibility\": False\n",
        "                        }\n",
        "                    id+=1\n",
        "\n",
        "\n",
        "    with open(output_path, \"w\") as f:\n",
        "        json.dump(ufo, f, indent=4)"
      ]
    },
    {
      "cell_type": "code",
      "execution_count": null,
      "metadata": {
        "id": "GguYDnOdC9mQ"
      },
      "outputs": [],
      "source": [
        "coco_to_ufo(find_json_files('/content/sample/Sample/02.라벨링데이터'),'/content/output.json')"
      ]
    },
    {
      "cell_type": "code",
      "source": [
        "def move_files_to_data_folder(folder_a):\n",
        "    # 폴더 A 안의 모든 폴더 목록을 가져옵니다.\n",
        "    subfolders = [f.path for f in os.scandir(folder_a) if f.is_dir()]\n",
        "\n",
        "    # \"data\" 폴더 생성\n",
        "    data_folder = os.path.join(folder_a, \"data\")\n",
        "    os.makedirs(data_folder, exist_ok=True)\n",
        "\n",
        "    # 각 폴더의 파일을 \"data\" 폴더로 이동\n",
        "    for subfolder in subfolders:\n",
        "        for root, dirs, files in os.walk(subfolder):\n",
        "            for file_name in files:\n",
        "                source_path = os.path.join(root, file_name)\n",
        "                destination_path = os.path.join(data_folder, file_name)\n",
        "\n",
        "                # 파일을 \"data\" 폴더로 이동\n",
        "                shutil.move(source_path, destination_path)\n",
        "                print(f\"Moved: {source_path} -> {destination_path}\")\n",
        "\n",
        "# 사용 예시:\n",
        "folder_a_path = '/content/sample/Sample/01.원천데이터'\n",
        "move_files_to_data_folder(folder_a_path)"
      ],
      "metadata": {
        "id": "lYI4fta7PUVb"
      },
      "execution_count": null,
      "outputs": []
    },
    {
      "cell_type": "code",
      "source": [
        "# 압축할 폴더 경로\n",
        "folder_to_compress = '/content/sample/Sample/01.원천데이터/data'\n",
        "\n",
        "# 압축된 파일 저장 경로 및 이름\n",
        "zip_file_path = '/content/d.zip'\n",
        "\n",
        "# 압축 명령 실행\n",
        "os.system(f\"zip -r {zip_file_path} {folder_to_compress}\")"
      ],
      "metadata": {
        "colab": {
          "base_uri": "https://localhost:8080/"
        },
        "id": "4UaXmdj7MVj_",
        "outputId": "b43eb78a-0476-45e7-9f84-b534d8abf8b6"
      },
      "execution_count": null,
      "outputs": [
        {
          "output_type": "execute_result",
          "data": {
            "text/plain": [
              "0"
            ]
          },
          "metadata": {},
          "execution_count": 13
        }
      ]
    }
  ],
  "metadata": {
    "colab": {
      "toc_visible": true,
      "provenance": []
    },
    "kernelspec": {
      "display_name": "Python 3",
      "name": "python3"
    },
    "language_info": {
      "name": "python"
    }
  },
  "nbformat": 4,
  "nbformat_minor": 0
}